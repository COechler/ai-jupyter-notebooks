{
 "cells": [
  {
   "cell_type": "code",
   "execution_count": null,
   "metadata": {},
   "outputs": [],
   "source": [
    "!pip install tensorflow\n",
    "!pip install tflite-runtime\n",
    "!pip install numpy"
   ]
  },
  {
   "cell_type": "code",
   "execution_count": null,
   "metadata": {},
   "outputs": [],
   "source": [
    "import tensorflow as tf\n",
    "from tensorflow import keras\n",
    "\n",
    "import tflite_runtime.interpreter as tflite\n",
    "\n",
    "import numpy as np"
   ]
  },
  {
   "cell_type": "code",
   "execution_count": null,
   "metadata": {},
   "outputs": [],
   "source": [
    "# Load the cifar10 dataset\n",
    "cifar10 = tf.keras.datasets.cifar10\n",
    "(train_images, train_labels), (test_images, test_labels) = cifar10.load_data()\n",
    "\n",
    "# Normalize the input image so that each pixel value is between 0 to 1.\n",
    "train_images = train_images.astype(np.float32) / 255.0\n",
    "test_images = test_images.astype(np.float32) / 255.0\n",
    "\n",
    "print(train_images.shape)"
   ]
  },
  {
   "cell_type": "code",
   "execution_count": null,
   "metadata": {},
   "outputs": [],
   "source": [
    "input_layer = keras.layers.Input(shape=(32,32,3), name=\"InputLayer\", dtype='float32')\n",
    "\n",
    "hidden_layer = keras.layers.Conv2D(filters=16, kernel_size=(3,3), strides=(1,1), padding='same', activation='relu', name=\"Layer0\")(input_layer)\n",
    "hidden_layer = keras.layers.MaxPool2D(pool_size=(2,2),strides=(2,2), padding='valid', name=\"Layer1\")(hidden_layer)\n",
    "\n",
    "hidden_layer = keras.layers.Conv2D(filters=32, kernel_size=(3,3), strides=(1,1), padding='same', activation='relu', name=\"Layer2\")(hidden_layer)\n",
    "hidden_layer = keras.layers.MaxPool2D(pool_size=(2, 2),strides=(2,2), padding='same', name=\"Layer3\")(hidden_layer)\n",
    "\n",
    "hidden_layer = keras.layers.Conv2D(filters=64, kernel_size=(3,3), strides=(1,1), padding='same', activation='relu', name=\"Layer4\")(hidden_layer)\n",
    "hidden_layer = keras.layers.MaxPool2D(pool_size=(2, 2),strides=(2,2), padding='same', name=\"Layer5\")(hidden_layer)\n",
    "\n",
    "hidden_layer = keras.layers.Conv2D(filters=128, kernel_size=(3,3), strides=(1,1), padding='same', activation='relu', name=\"Layer6\")(hidden_layer)\n",
    "hidden_layer = keras.layers.MaxPool2D(pool_size=(2, 2),strides=(2,2), padding='same', name=\"Layer7\")(hidden_layer)\n",
    "\n",
    "hidden_layer = keras.layers.Conv2D(filters=256, kernel_size=(3,3), strides=(1,1), padding='same', activation='relu', name=\"Layer8\")(hidden_layer)\n",
    "hidden_layer = keras.layers.MaxPool2D(pool_size=(2, 2),strides=(2,2), padding='same', name=\"Layer9\")(hidden_layer)\n",
    "\n",
    "hidden_layer = keras.layers.Conv2D(filters=512, kernel_size=(3,3), strides=(1,1), padding='same', activation='relu', name=\"Layer10\")(hidden_layer)\n",
    "hidden_layer = keras.layers.MaxPool2D(pool_size=(2, 2),strides=(1,1), padding='same', name=\"Layer11\")(hidden_layer)\n",
    "\n",
    "hidden_layer = keras.layers.Conv2D(filters=1024, kernel_size=(3,3), strides=(1,1), padding='same', activation='relu', name=\"Layer12\")(hidden_layer)\n",
    "\n",
    "route13 = hidden_layer\n",
    "\n",
    "hidden_layer = keras.layers.Conv2D(filters=256, kernel_size=(1,1), strides=(1,1), activation='relu', padding='same', name=\"Layer13\")(hidden_layer)\n",
    "hidden_layer = keras.layers.Conv2D(filters=512, kernel_size=(3,3), strides=(1,1), activation='relu', padding='same', name=\"Layer14\")(hidden_layer)\n",
    "hidden_layer = keras.layers.Conv2D(filters=255, kernel_size=(1,1), strides=(1,1), activation='linear', padding='same', name=\"Layer15\")(hidden_layer)\n",
    "\n",
    "hidden_layer = keras.layers.Concatenate(name=\"Layer17\")([hidden_layer, route13])\n",
    "\n",
    "hidden_layer = keras.layers.Conv2D(filters=128, kernel_size=(1,1), strides=(1,1), activation='relu', padding='same', name=\"Layer18\")(hidden_layer)\n",
    "\n",
    "hidden_layer = keras.layers.Conv2DTranspose(size=(2, 2), name=\"Layer19\")(hidden_layer)\n",
    "route19 = hidden_layer\n",
    "hidden_layer = keras.layers.Concatenate(name=\"Layer20\")([hidden_layer, route19])\n",
    "hidden_layer = keras.layers.Conv2D(filters=128, kernel_size=(3,3), strides=(1,1), activation='relu', padding='same', name=\"Layer21\")(hidden_layer)\n",
    "hidden_layer = keras.layers.Conv2D(filters=128, kernel_size=(1,1), strides=(1,1), activation='relu', padding='same', name=\"Layer22\")(hidden_layer)\n",
    "\n",
    "hidden_layer = keras.layers.Flatten(name=\"TestLayer1\")(hidden_layer)\n",
    "hidden_layer = keras.layers.Dense(10, name=\"TestLayer2\", activation=\"softmax\")(hidden_layer)\n",
    "\n",
    "output_layer = hidden_layer\n",
    "\n",
    "model = keras.Model(inputs=[input_layer], outputs=[output_layer], name=\"Yolo\")\n",
    "model.summary()"
   ]
  },
  {
   "cell_type": "code",
   "execution_count": null,
   "metadata": {},
   "outputs": [],
   "source": [
    "from tensorflow.keras import datasets, layers, models\n",
    "model = models.Sequential()\n",
    "model.add(layers.Conv2D(32, (3, 3), activation='relu', input_shape=(32, 32, 3)))\n",
    "model.add(layers.MaxPooling2D((2, 2)))\n",
    "model.add(layers.Conv2D(64, (3, 3), activation='relu'))\n",
    "model.add(layers.MaxPooling2D((2, 2)))\n",
    "model.add(layers.Conv2D(64, (3, 3), activation='relu'))\n",
    "model.add(layers.Flatten())\n",
    "model.add(layers.Dense(64, activation='relu'))\n",
    "model.add(layers.Dense(10))"
   ]
  },
  {
   "cell_type": "code",
   "execution_count": null,
   "metadata": {},
   "outputs": [],
   "source": [
    "# Compiliert das Modell\n",
    "model.compile(optimizer='adam', loss=tf.keras.losses.SparseCategoricalCrossentropy(from_logits=True), metrics=['accuracy'])"
   ]
  },
  {
   "cell_type": "code",
   "execution_count": null,
   "metadata": {},
   "outputs": [],
   "source": [
    "# Trainiert das Modell\n",
    "model.fit(train_images[0:100], train_labels[0:100], epochs=1, validation_data=(test_images[0:100], test_labels[0:100]))"
   ]
  },
  {
   "cell_type": "code",
   "execution_count": null,
   "metadata": {},
   "outputs": [],
   "source": [
    "import matplotlib.pylab as plt\n",
    "plt.imshow(train_images[0], cmap=plt.cm.binary)\n",
    "print(test_labels[0])\n",
    "plt.show()\n",
    "output = model.predict(train_images[0:1])\n",
    "print(np.argmax(output))"
   ]
  },
  {
   "cell_type": "markdown",
   "metadata": {},
   "source": [
    "### Generiert den \"representativen Datensatz\" für die Quantifizierung"
   ]
  },
  {
   "cell_type": "code",
   "execution_count": null,
   "metadata": {},
   "outputs": [],
   "source": [
    "def representative_data_gen():\n",
    "    dataset = tf.data.Dataset.from_tensor_slices(train_images).batch(1)\n",
    "\n",
    "    for input_value in dataset.take(100):\n",
    "        yield [input_value]"
   ]
  },
  {
   "cell_type": "code",
   "execution_count": null,
   "metadata": {},
   "outputs": [],
   "source": [
    "converter = tf.lite.TFLiteConverter.from_keras_model(model)\n",
    "converter.optimizations = [tf.lite.Optimize.DEFAULT]\n",
    "converter.target_spec.supported_types = [tf.float16]\n",
    "tflite_quant_model = converter.convert()\n",
    "\n",
    "with open('tinyYOLO.tflite', 'wb') as f:\n",
    "  f.write(tflite_quant_model)"
   ]
  },
  {
   "cell_type": "markdown",
   "metadata": {},
   "source": [
    "### Durchführung der Post-Integer-Quantifizierung"
   ]
  },
  {
   "cell_type": "code",
   "execution_count": null,
   "metadata": {},
   "outputs": [],
   "source": [
    "converter = tf.lite.TFLiteConverter.from_keras_model(model)\n",
    "\n",
    "converter.optimizations = [tf.lite.Optimize.DEFAULT]\n",
    "converter.representative_dataset = representative_data_gen\n",
    "converter.target_spec.supported_ops = [tf.lite.OpsSet.TFLITE_BUILTINS_INT8]\n",
    "converter.inference_input_type = tf.int8  # or tf.uint8\n",
    "converter.inference_output_type = tf.int8  # or tf.uint8\n",
    "tflite_quant_model = converter.convert()\n",
    "\n",
    "with open('tinyYOLO.tflite', 'wb') as f:\n",
    "  f.write(tflite_quant_model)"
   ]
  },
  {
   "cell_type": "markdown",
   "metadata": {},
   "source": [
    "### Compilierung des Tensorflow-Lite-Modells für die Edge TPU"
   ]
  },
  {
   "cell_type": "code",
   "execution_count": null,
   "metadata": {},
   "outputs": [],
   "source": [
    "! edgetpu_compiler -s tinyYOLO.tflite"
   ]
  },
  {
   "cell_type": "markdown",
   "metadata": {},
   "source": [
    "### Nutzung des Tensorflow-Lite-Modells (auf CPU)"
   ]
  },
  {
   "cell_type": "code",
   "execution_count": null,
   "metadata": {},
   "outputs": [],
   "source": [
    "# Load the TFLite model and allocate tensors.\n",
    "interpreter = tf.lite.Interpreter(model_path=\"tinyYOLO.tflite\")\n",
    "interpreter.allocate_tensors()\n",
    "\n",
    "# Get input and output tensors.\n",
    "input_details = interpreter.get_input_details()\n",
    "output_details = interpreter.get_output_details()\n",
    "\n",
    "# Test the model on random input data.\n",
    "input_shape = input_details[0]['shape']\n",
    "input_data = np.array(test_images[100:101] * 255, dtype=np.float32)\n",
    "interpreter.set_tensor(input_details[0]['index'], input_data)\n",
    "\n",
    "interpreter.invoke()\n",
    "\n",
    "# The function `get_tensor()` returns a copy of the tensor data.\n",
    "# Use `tensor()` in order to get a pointer to the tensor.\n",
    "output_data = interpreter.get_tensor(output_details[0]['index'])\n",
    "print(np.argmax(output_data))\n",
    "\n",
    "\n",
    "\n",
    "class_names = ['airplane', 'automobile', 'bird', 'cat', 'deer',\n",
    "               'dog', 'frog', 'horse', 'ship', 'truck']\n",
    "\n",
    "import matplotlib.pylab as plt\n",
    "plt.imshow(test_images[100], cmap=plt.cm.binary)\n",
    "print(test_labels[100])\n",
    "plt.show()"
   ]
  },
  {
   "cell_type": "markdown",
   "metadata": {},
   "source": [
    "### Nutzung des Modells auf der Edge TPU"
   ]
  },
  {
   "cell_type": "code",
   "execution_count": null,
   "metadata": {},
   "outputs": [],
   "source": [
    "import platform\n",
    "import time\n",
    "\n",
    "EDGETPU_SHARED_LIB = {\n",
    "  'Linux': 'libedgetpu.so.1',\n",
    "  'Darwin': 'libedgetpu.1.dylib',\n",
    "  'Windows': 'edgetpu.dll'\n",
    "}[platform.system()]\n",
    "\n",
    "def make_interpreter(model_file):\n",
    "    model_file, *device = model_file.split('@')\n",
    "    \n",
    "    return tflite.Interpreter(model_path=model_file, experimental_delegates=[\n",
    "          tflite.load_delegate(EDGETPU_SHARED_LIB, {'device': device[0]} if device else {})])\n",
    "\n",
    "\n",
    "# Läd das Model\n",
    "interpreter = make_interpreter(\"tinyYOLO_edgetpu.tflite\")\n",
    "\n",
    "interpreter.allocate_tensors()\n",
    "\n",
    "# Get input and output tensors.\n",
    "input_details = interpreter.get_input_details()\n",
    "output_details = interpreter.get_output_details()\n",
    "\n",
    "# Test the model on random input data.\n",
    "input_shape = input_details[0]['shape']\n",
    "\n",
    "input_data = np.array(test_images[0:1] * 255, dtype=np.int8)\n",
    "\n",
    "interpreter.set_tensor(input_details[0]['index'], input_data) \n",
    "\n",
    "# The function `get_tensor()` returns a copy of the tensor data.\n",
    "# Use `tensor()` in order to get a pointer to the tensor.\n",
    "for _ in range(10000):\n",
    "    start = time.perf_counter()\n",
    "    interpreter.invoke()\n",
    "    output_data = interpreter.get_tensor(output_details[0]['index'])\n",
    "    inference_time = time.perf_counter() - start\n",
    "    print('%.1fms' % (inference_time * 1000))"
   ]
  }
 ],
 "metadata": {
  "kernelspec": {
   "display_name": "Python 3",
   "language": "python",
   "name": "python3"
  },
  "language_info": {
   "codemirror_mode": {
    "name": "ipython",
    "version": 3
   },
   "file_extension": ".py",
   "mimetype": "text/x-python",
   "name": "python",
   "nbconvert_exporter": "python",
   "pygments_lexer": "ipython3",
   "version": "3.10.7"
  },
  "vscode": {
   "interpreter": {
    "hash": "916dbcbb3f70747c44a77c7bcd40155683ae19c65e1c03b4aa3499c5328201f1"
   }
  }
 },
 "nbformat": 4,
 "nbformat_minor": 4
}
