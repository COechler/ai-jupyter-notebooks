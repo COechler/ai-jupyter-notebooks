{
 "cells": [
  {
   "cell_type": "markdown",
   "id": "44edfd38",
   "metadata": {},
   "source": [
    "# Beschreibung Reinforcment Learning\n",
    "Elemente vom „Reinforment Learning“ sind:\n",
    "* Eine Umgebung (engl. environment)\n",
    "* Durchfürhbare Aktionen (engl. actions)\n",
    "* Algorithmen (engl. policy)\n",
    "* Beobachtungen (engl. observations)"
   ]
  },
  {
   "cell_type": "markdown",
   "id": "639be46a",
   "metadata": {},
   "source": [
    "# Installationspackete"
   ]
  },
  {
   "cell_type": "code",
   "execution_count": null,
   "id": "32fedad9",
   "metadata": {},
   "outputs": [],
   "source": [
    "!pip install gym\n",
    "!pip install pygame\n",
    "!pip install numpy\n",
    "!pip install tensorflow"
   ]
  },
  {
   "cell_type": "markdown",
   "id": "a5406951",
   "metadata": {},
   "source": [
    "# Programmcode"
   ]
  },
  {
   "cell_type": "code",
   "execution_count": null,
   "id": "9c4c839a",
   "metadata": {},
   "outputs": [],
   "source": [
    "import gym\n",
    "import numpy as np\n",
    "import tensorflow as tf\n",
    "from tensorflow import keras\n",
    "from collections import deque"
   ]
  },
  {
   "cell_type": "markdown",
   "id": "2cf3d8ac",
   "metadata": {},
   "source": [
    "## Einfaches Beispiel\n",
    "\n",
    "* Verfügbare Aktionen (engl. actions) sind im CarPole-Beispiel die Beschleunigung des Autos nach links (0) oder nach rechts (1)\n",
    "* Observation-Array enthält folgende Infos: Position des Autos, Geschwindigkeit des Autos, Winkel des Stabs, Winkelgeschwindigkeit des Stabs"
   ]
  },
  {
   "cell_type": "markdown",
   "id": "a568e928",
   "metadata": {},
   "source": [
    "### Basic Policy\n",
    "Methode stellt einen Basis-Algorithmus dar. Wenn der Winkel des Stabes kleiner 0 ist, dann wird das Auto nach\n",
    "links beschleunigt (Aktion-Wert 0), andernfalls nach rechts beschleunigt (Aktion-Wert 1)."
   ]
  },
  {
   "cell_type": "code",
   "execution_count": null,
   "id": "62feaf81",
   "metadata": {},
   "outputs": [],
   "source": [
    "def basic_policy(observation):\n",
    "    angle = observation[2]\n",
    "    \n",
    "    if angle < 0:\n",
    "        return 0\n",
    "    else:\n",
    "        return 1"
   ]
  },
  {
   "cell_type": "code",
   "execution_count": null,
   "id": "e5df879b",
   "metadata": {},
   "outputs": [],
   "source": [
    "environment = gym.make(\"CartPole-v1\")\n",
    "observation = environment.reset()\n",
    "    \n",
    "totals = []\n",
    "\n",
    "for episode in range(500):\n",
    "    episode_rewards = 0\n",
    "    observation = environment.reset()\n",
    "    \n",
    "    # Führt 200 Aktionsschritte aus oder bricht ab, wenn der Stab umgefallen ist\n",
    "    for step in range(200):\n",
    "        # Wählt die Aktion anhand der aktuellen Beobachtung aus\n",
    "        action = basic_policy(observation)\n",
    "        \n",
    "        # Führt die Aktion auf der Umgebung aus\n",
    "        observation, reward, done, info = environment.step(action)\n",
    "        \n",
    "        # Fügt die Belohnung der Aktion der Gesamtbelohnung hinzu\n",
    "        episode_rewards =  episode_rewards + reward\n",
    "        \n",
    "        # Bricht den Durchlauf ab, wenn der Terminalstatus erreich wurde (Stab umgefallen)\n",
    "        if done:\n",
    "            break\n",
    "            \n",
    "    totals.append(episode_rewards)"
   ]
  },
  {
   "cell_type": "code",
   "execution_count": null,
   "id": "3241d0bb",
   "metadata": {},
   "outputs": [],
   "source": [
    "print(\"Durchschnitt: \" + str(np.mean(totals)))\n",
    "print(\"Standardabweichung: \" + str(np.std(totals)))\n",
    "print(\"Minimal: \" + str(np.min(totals)))\n",
    "print(\"Maximal: \" + str(np.max(totals)))"
   ]
  },
  {
   "cell_type": "markdown",
   "id": "1d5c4b0b",
   "metadata": {},
   "source": [
    "## Einfaches Tensorflow-Beispiel"
   ]
  },
  {
   "cell_type": "markdown",
   "id": "5846e5b6",
   "metadata": {},
   "source": [
    "* [tf.GradientTape](https://www.tensorflow.org/api_docs/python/tf/GradientTape)\n",
    "* np.newaxis\n",
    "* [tf.random.uniform](https://www.tensorflow.org/api_docs/python/tf/random/uniform)\n",
    "* [tf.constant](https://www.tensorflow.org/api_docs/python/tf/constant)\n",
    "* [tf.cast](https://www.tensorflow.org/api_docs/python/tf/cast)\n",
    "* [tf.reduce_mean](https://www.tensorflow.org/api_docs/python/tf/math/reduce_mean)\n",
    "* [tf.concatenate](https://www.tensorflow.org/api_docs/python/tf/concat)\n",
    "* mean()\n",
    "* std()"
   ]
  },
  {
   "cell_type": "markdown",
   "id": "21199bb6",
   "metadata": {},
   "source": [
    "Erstellt eine neuronales Netz."
   ]
  },
  {
   "cell_type": "code",
   "execution_count": null,
   "id": "924a1af5",
   "metadata": {},
   "outputs": [],
   "source": [
    "model = keras.models.Sequential([\n",
    "                                 keras.layers.Dense(5, activation=\"elu\", input_shape=[4]),\n",
    "                                 keras.layers.Dense(1, activation=\"sigmoid\")\n",
    "                                ])"
   ]
  },
  {
   "cell_type": "code",
   "execution_count": null,
   "id": "7f2a37b9",
   "metadata": {},
   "outputs": [],
   "source": [
    "def play_one_step(environment, observation, model, loss_function):\n",
    "    with tf.GradientTape as tape:\n",
    "        # Gibt den aktuellen Status der Umwelt in das Model und bekommt die Wahrscheinlichkeit nach Links zu fahren\n",
    "        propability_of_left = model(observation[np.newaxis])\n",
    "\n",
    "        action = (tf.random.uniform([1,1]) > propability_of_left)\n",
    "        y_target = tf.constant([[1.]] - tf.cast(action, tf.float32))\n",
    "        loss = tf.reduce_mean(loss_function(y_target, propability_of_left))\n",
    "        \n",
    "    gradients = tape.gradient(loss, model.trainable_variables)\n",
    "    \n",
    "    observation, reward, done, info = environment.step(int(action[0,0].numpy()))\n",
    "    \n",
    "    return observation, reward, done, gradients"
   ]
  },
  {
   "cell_type": "code",
   "execution_count": null,
   "id": "b8282237",
   "metadata": {},
   "outputs": [],
   "source": [
    "def play_multiple_episodes(environment, number_of_episodes, max_steps, model, loss_function):\n",
    "    all_rewards = []\n",
    "    all_gradients = []\n",
    "    \n",
    "    for episode in range(number_of_episodes):\n",
    "        current_rewards = []\n",
    "        current_gradients = []\n",
    "        \n",
    "        observation = environment.reset()\n",
    "        \n",
    "        # Führt die angegebene Anzahl von Aktionsschritte aus oder bricht ab, wenn der Stab umgefallen ist\n",
    "        for step in range(max_steps):\n",
    "            observation, reward, done, gradients = play_one_step(environment, observation, model, loss_function)\n",
    "            current_rewards.append(reward)\n",
    "            current_gradients.append(gradients)\n",
    "            \n",
    "            if done:\n",
    "                break\n",
    "                \n",
    "        all_rewards.append(current_rewards)\n",
    "        all_gradients.append(current_gradients)\n",
    "    \n",
    "    return all_rewards, all_gradients"
   ]
  },
  {
   "cell_type": "markdown",
   "id": "23eeaa85",
   "metadata": {},
   "source": [
    "* numpy.array()"
   ]
  },
  {
   "cell_type": "code",
   "execution_count": null,
   "id": "47b9cfc6",
   "metadata": {},
   "outputs": [],
   "source": [
    "def discount_rewards(rewards, discount_factor):\n",
    "    discounted = np.array(rewards)\n",
    "    \n",
    "    for step in range(len(rewards) - 2, -1, -1):\n",
    "        discounted[step] = discounted[step] + discounted[step + 1] * discount_factor\n",
    "        \n",
    "    return discounted"
   ]
  },
  {
   "cell_type": "code",
   "execution_count": null,
   "id": "682fce71",
   "metadata": {},
   "outputs": [],
   "source": [
    "def discount_and_normalize_rewards(all_rewards, discount_factor):\n",
    "    \n",
    "    all_discounted_rewards = []\n",
    "    for rewards in all_rewards:\n",
    "        value = discount_rewards(rewards, discount_factor)\n",
    "        all_discounted_rewards.append(value)\n",
    "    \n",
    "    flat_rewards = np.concatenate(all_discounted_rewards)\n",
    "    rewards_mean = flat_rewards.mean()\n",
    "    rewards_std = flat_rewards.std()\n",
    "    \n",
    "    all_normalize_discounted_rewards = []\n",
    "    for rewards in all_discounted_rewards:\n",
    "        value = (rewards - rewards_mean) / rewards_std\n",
    "        all_normalize_discounted_rewards.append(value)\n",
    "    \n",
    "    return all_normalize_discounted_rewards"
   ]
  },
  {
   "cell_type": "markdown",
   "id": "1e973836",
   "metadata": {},
   "source": [
    "* tf.reduce_mean"
   ]
  },
  {
   "cell_type": "code",
   "execution_count": null,
   "id": "d4e12981",
   "metadata": {},
   "outputs": [],
   "source": [
    "environment = gym.make(\"CartPole-v1\")\n",
    "observation = environment.reset()\n",
    "\n",
    "number_of_iterations = 150\n",
    "number_of_episodes_per_update = 10\n",
    "max_steps = 200\n",
    "discount_factor = 0.95\n",
    "\n",
    "optimizer = keras.optimizers.Adam(learning_rate=0.01)\n",
    "loss_function = keras.losses.binary_crossentropy\n",
    "\n",
    "for iteration in range(number_of_iterations):\n",
    "    all_rewards, all_gradients = play_multiple_episodes(environment, number_of_episodes_per_update, max_steps, model, loss_function)\n",
    "    all_final_rewards = discount_and_normalize_rewards(all_rewards, discount_factor)\n",
    "    \n",
    "    all_mean_gradients = []\n",
    "    \n",
    "    for var_index in range(len(model.trainable_variables)):\n",
    "        mean_gradients = tf.reduce_mean([\n",
    "                                         final_reward * all_gradients[episode_index][step][var_index] for episode_index,\n",
    "                                         final_rewards in enumerate(final_rewards, axis=0)\n",
    "                                        ])\n",
    "        \n",
    "        all_mean_gradients.append(mean_gradients)\n",
    "    \n",
    "    optimizer.appy_gradients(zip(all_mean_gradients, model.trainable_variables))"
   ]
  },
  {
   "cell_type": "markdown",
   "id": "bb261ca1",
   "metadata": {},
   "source": [
    "## Deep-Q-Learning-Beispiel"
   ]
  },
  {
   "cell_type": "code",
   "execution_count": null,
   "id": "141e3b86",
   "metadata": {},
   "outputs": [],
   "source": [
    "model = keras.models.Sequential([\n",
    "                                 keras.layers.Dense(32, activation=\"elu\", input_shape=[4]),\n",
    "                                 keras.layers.Dense(32, activation=\"elu\"),\n",
    "                                 keras.layers.Dense(2)\n",
    "                                ])"
   ]
  },
  {
   "cell_type": "code",
   "execution_count": null,
   "id": "7c7b0ce4",
   "metadata": {},
   "outputs": [],
   "source": [
    "def epsilon_greedy_policy(state, epsilon=0):\n",
    "    if np.random.rand() < epsilon:\n",
    "        return np.random.randint(2)\n",
    "    else:\n",
    "        Q_values = model.predict(state[np.newaxis])\n",
    "        return np.argmax(Q_values[0])"
   ]
  },
  {
   "cell_type": "code",
   "execution_count": null,
   "id": "732c1cd6",
   "metadata": {},
   "outputs": [],
   "source": [
    "def sample_experiences(batch_size):\n",
    "    indices = np.random.randint(len(replay_buffer), size=batch_size)\n",
    "    batch = [replay_buffer[index] for index in indices]\n",
    "    states, actions, rewards, next_states, done = [np.array([experience[filed_index]] for experience in batch) for field_index in range(5)]\n",
    "    \n",
    "    return states, actions, rewards, next_states, done"
   ]
  },
  {
   "cell_type": "code",
   "execution_count": null,
   "id": "38aad2cd",
   "metadata": {},
   "outputs": [],
   "source": [
    "def play_one_step(environment, state, epsilon):\n",
    "    action = epsilon_greedy_policy(state, epsilon)\n",
    "    next_state, reward, done, info = environment.step(action)\n",
    "    replay_buffer.append((state, action, reward, next_state, done))\n",
    "    \n",
    "    return next_state, reward, done, info"
   ]
  },
  {
   "cell_type": "code",
   "execution_count": null,
   "id": "b3f3d057",
   "metadata": {},
   "outputs": [],
   "source": [
    "environment = gym.make(\"CartPole-v1\")\n",
    "observation = environment.reset()\n",
    "\n",
    "discount_factor = 0.95\n",
    "\n",
    "optimizer = keras.optimizers.Adam(learning_rate=1e-3)\n",
    "loss_function = keras.losses.mean_squared_error\n",
    "\n",
    "def training_step(batch_size):\n",
    "    experiences = sample_experiences(batch_size)\n",
    "    states, actions, rewards, next_states, done = experiences\n",
    "    next_Q_values = model.predict(next_states)\n",
    "    max_next_Q_values = np.max(next_Q_values, axis=1)\n",
    "    \n",
    "    target_Q_values = (rewards + (1 - dones) * discount_factor * max_next_Q_values)\n",
    "    target_Q_values = target_Q_values.reshape(-1,1)\n",
    "    \n",
    "    nask = tf.one_hot(actions, n_outputs)\n",
    "    \n",
    "    with tf.GradientTape() as tape:\n",
    "        all_Q_values = model(states)\n",
    "        Q_values = tf.reduce_sum(all_Q_values * mask, axis=1, keepdims=True)\n",
    "        loss = tf.reduce_mean(loss_function(target_Q_values, Q_values))\n",
    "        \n",
    "    gradients = tape.gradient(loss, model.trainable_variables)\n",
    "    optimizer.apply_gradients(zip(gradients, model.trainable_variables))"
   ]
  },
  {
   "cell_type": "code",
   "execution_count": null,
   "id": "70d984a7",
   "metadata": {},
   "outputs": [],
   "source": [
    "replay_buffer = deque(maxlen=2000)\n",
    "batch_size = 32\n",
    "\n",
    "for episode in range(600):\n",
    "    observation = environment.reset()\n",
    "    \n",
    "    for step in range(200):\n",
    "        epsilon = max(1 - episode / 500, 0.01)\n",
    "        observation, reward, done, info = play_one_step(environment, observation, epsilon)\n",
    "        \n",
    "        if done:\n",
    "            break;\n",
    "    \n",
    "    if episode > 50:\n",
    "        training_step(batch_size)"
   ]
  },
  {
   "cell_type": "code",
   "execution_count": null,
   "id": "632351eb",
   "metadata": {},
   "outputs": [],
   "source": []
  }
 ],
 "metadata": {
  "kernelspec": {
   "display_name": "Python 3 (ipykernel)",
   "language": "python",
   "name": "python3"
  },
  "language_info": {
   "codemirror_mode": {
    "name": "ipython",
    "version": 3
   },
   "file_extension": ".py",
   "mimetype": "text/x-python",
   "name": "python",
   "nbconvert_exporter": "python",
   "pygments_lexer": "ipython3",
   "version": "3.9.5"
  }
 },
 "nbformat": 4,
 "nbformat_minor": 5
}
