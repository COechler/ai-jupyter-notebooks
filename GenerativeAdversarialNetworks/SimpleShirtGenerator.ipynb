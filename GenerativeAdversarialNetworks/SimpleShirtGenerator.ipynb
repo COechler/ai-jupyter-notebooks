{
 "cells": [
  {
   "cell_type": "code",
   "execution_count": 4,
   "id": "5fccd53c",
   "metadata": {},
   "outputs": [],
   "source": [
    "# Importiert die notwendingen Pakete\n",
    "import tensorflow as tf\n",
    "import tensorflow.keras as keras"
   ]
  },
  {
   "cell_type": "markdown",
   "id": "e41d0a64",
   "metadata": {},
   "source": [
    "## Einfaches GAN auf Basis eines Neural Networks"
   ]
  },
  {
   "cell_type": "code",
   "execution_count": 42,
   "id": "8cbaaca7",
   "metadata": {},
   "outputs": [],
   "source": [
    "generator = keras.models.Sequential([\n",
    "                                     keras.layers.Dense(100, activation=\"selu\", input_shape=[30]),\n",
    "                                     keras.layers.Dense(150, activation=\"selu\"),\n",
    "                                     keras.layers.Dense(28 * 28, activation=\"sigmoid\"),\n",
    "                                     keras.layers.Reshape([28,28])\n",
    "                                    ], name=\"Generator\")\n",
    "\n",
    "discriminator = keras.models.Sequential([\n",
    "                                         keras.layers.Flatten(input_shape=[28,28]),\n",
    "                                         keras.layers.Dense(150, activation=\"selu\"),\n",
    "                                         keras.layers.Dense(100, activation=\"selu\"),\n",
    "                                         keras.layers.Dense(1, activation=\"sigmoid\")\n",
    "                                        ], name=\"Discriminator\")\n",
    "\n",
    "gan = keras.models.Sequential([generator, discriminator], name=\"GAN\")"
   ]
  },
  {
   "cell_type": "code",
   "execution_count": null,
   "id": "4a0da34e",
   "metadata": {},
   "outputs": [],
   "source": []
  },
  {
   "cell_type": "code",
   "execution_count": 22,
   "id": "30c3e302",
   "metadata": {},
   "outputs": [],
   "source": [
    "discriminator.compile(loss=\"binary_crossentropy\", optimizer=\"rmsprop\")\n",
    "discriminator.trainable = False\n",
    "\n",
    "gan.compile(loss=\"binary_crossentropy\", optimizer=\"rmsprop\")"
   ]
  },
  {
   "cell_type": "code",
   "execution_count": null,
   "id": "0c63adb6",
   "metadata": {},
   "outputs": [],
   "source": []
  },
  {
   "cell_type": "code",
   "execution_count": 25,
   "id": "65ae1096",
   "metadata": {},
   "outputs": [],
   "source": [
    "def train_gan(gan, dataset, batch_size, codings_size, number_of_epochs):\n",
    "    generator, discriminator = gan.layers\n",
    "    \n",
    "    for epoch in range(number_of_epochs):\n",
    "        \n",
    "        for X_batch in dataset:\n",
    "            # Phase 1 - Den Discriminator trainieren\n",
    "            noise = tf.random.normal(shape=[batch_size, codings_size])\n",
    "            generated_images = generator(noise)\n",
    "            X_fake_and_real = tf.concat([generated_images, X_batch])\n",
    "            y1 = tf.constant([[0.]] * batch_size + [[1.]] * batch_size)\n",
    "            discriminator.trainable = True\n",
    "            discriminator.train_on_batch(X_fake_and_real, y1)\n",
    "            \n",
    "            # Phase 2 - Den Generator trainieren\n",
    "            noise = tf.random.normal(shape=[batch_size, codings_size])\n",
    "            y1 = tf.constant([[1.]] * batch_size)\n",
    "            discriminator.trainable = False\n",
    "            gan.train_on_batch(noise, y2)"
   ]
  },
  {
   "cell_type": "code",
   "execution_count": null,
   "id": "4b2b409e",
   "metadata": {},
   "outputs": [],
   "source": []
  },
  {
   "cell_type": "code",
   "execution_count": 26,
   "id": "58e16930",
   "metadata": {},
   "outputs": [
    {
     "ename": "SyntaxError",
     "evalue": "invalid syntax (1231087050.py, line 1)",
     "output_type": "error",
     "traceback": [
      "\u001b[0;36m  File \u001b[0;32m\"/tmp/ipykernel_89811/1231087050.py\"\u001b[0;36m, line \u001b[0;32m1\u001b[0m\n\u001b[0;31m    train_gan(gan, dataset, batch_size, codings_size, number_of_epochs):\u001b[0m\n\u001b[0m                                                                        ^\u001b[0m\n\u001b[0;31mSyntaxError\u001b[0m\u001b[0;31m:\u001b[0m invalid syntax\n"
     ]
    }
   ],
   "source": [
    "train_gan(gan, dataset, batch_size, codings_size, number_of_epochs)"
   ]
  },
  {
   "cell_type": "markdown",
   "id": "c1defe3b",
   "metadata": {},
   "source": [
    "## Einfaches GAN auf Basis eines Convolutional Neural Networks"
   ]
  },
  {
   "cell_type": "code",
   "execution_count": 40,
   "id": "9b2e6f98",
   "metadata": {},
   "outputs": [],
   "source": [
    "codings_size = 100\n",
    "\n",
    "generator = keras.models.Sequential([\n",
    "                                     keras.layers.Dense(7 * 7 * 128, input_shape=[codings_size]),\n",
    "                                     keras.layers.Reshape([7,7,128]),\n",
    "                                     keras.layers.BatchNormalization(),\n",
    "                                     keras.layers.Conv2DTranspose(64, kernel_size=5, strides=2, padding=\"same\", activation=\"selu\"),\n",
    "                                     keras.layers.BatchNormalization(),\n",
    "                                     keras.layers.Conv2DTranspose(1, kernel_size=5, strides=2, padding=\"same\", activation=\"tanh\")\n",
    "                                    ], name=\"Generator\")\n",
    "\n",
    "discriminator = keras.models.Sequential([\n",
    "                                         keras.layers.Conv2D(64, kernel_size=5, strides=2, padding=\"same\", activation=keras.layers.LeakyReLU(0.2), input_shape=[28,28,1]),\n",
    "                                         keras.layers.Dropout(0.4),\n",
    "                                         keras.layers.Conv2D(128, kernel_size=5, strides=2, padding=\"same\", activation=keras.layers.LeakyReLU(0.2)),\n",
    "                                         keras.layers.Dropout(0.4),\n",
    "                                         keras.layers.Flatten(),\n",
    "                                         keras.layers.Dense(1, activation=\"sigmoid\")\n",
    "                                        ], name=\"Discriminator\")\n",
    "\n",
    "gan = keras.models.Sequential([generator, discriminator], name=\"GAN\")"
   ]
  },
  {
   "cell_type": "code",
   "execution_count": 41,
   "id": "24e82ecd",
   "metadata": {},
   "outputs": [
    {
     "name": "stdout",
     "output_type": "stream",
     "text": [
      "Model: \"GAN\"\n",
      "_________________________________________________________________\n",
      "Layer (type)                 Output Shape              Param #   \n",
      "=================================================================\n",
      "Generator (Sequential)       (None, 28, 28, 1)         840705    \n",
      "_________________________________________________________________\n",
      "Discriminator (Sequential)   (None, 1)                 212865    \n",
      "=================================================================\n",
      "Total params: 1,053,570\n",
      "Trainable params: 1,053,186\n",
      "Non-trainable params: 384\n",
      "_________________________________________________________________\n"
     ]
    }
   ],
   "source": [
    "gan.summary()"
   ]
  },
  {
   "cell_type": "code",
   "execution_count": null,
   "id": "56b4667c",
   "metadata": {},
   "outputs": [],
   "source": []
  }
 ],
 "metadata": {
  "kernelspec": {
   "display_name": "Python 3 (ipykernel)",
   "language": "python",
   "name": "python3"
  },
  "language_info": {
   "codemirror_mode": {
    "name": "ipython",
    "version": 3
   },
   "file_extension": ".py",
   "mimetype": "text/x-python",
   "name": "python",
   "nbconvert_exporter": "python",
   "pygments_lexer": "ipython3",
   "version": "3.9.5"
  }
 },
 "nbformat": 4,
 "nbformat_minor": 5
}
